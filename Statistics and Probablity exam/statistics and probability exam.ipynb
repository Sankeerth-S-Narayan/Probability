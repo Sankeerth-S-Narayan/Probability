{
 "cells": [
  {
   "cell_type": "code",
   "execution_count": 10,
   "id": "860366ea",
   "metadata": {},
   "outputs": [],
   "source": [
    "import numpy as np\n",
    "import scipy.stats as stats\n",
    "import matplotlib.pyplot as plt"
   ]
  },
  {
   "cell_type": "markdown",
   "id": "ae4e149f",
   "metadata": {},
   "source": [
    "# 1"
   ]
  },
  {
   "cell_type": "code",
   "execution_count": 19,
   "id": "ad27c563",
   "metadata": {},
   "outputs": [
    {
     "data": {
      "text/plain": [
       "0.01656862745098039"
      ]
     },
     "execution_count": 19,
     "metadata": {},
     "output_type": "execute_result"
    }
   ],
   "source": [
    "n = 52\n",
    "d = 13\n",
    "h = 13\n",
    "s= 13\n",
    "p = d/n*h/(n-1)*h/(n-2)\n",
    "p\n"
   ]
  },
  {
   "cell_type": "markdown",
   "id": "f9c12413",
   "metadata": {},
   "source": [
    "# 3"
   ]
  },
  {
   "cell_type": "code",
   "execution_count": 12,
   "id": "74250c8f",
   "metadata": {},
   "outputs": [
    {
     "name": "stdout",
     "output_type": "stream",
     "text": [
      "The probability of choosing the bag B given the ball is black 0.5045\n"
     ]
    }
   ],
   "source": [
    "prob_a = 1/2\n",
    "prob_b = 1/2\n",
    "prob_black_a = 5/8\n",
    "prob_black_b = 7/11\n",
    "\n",
    "prob_black_b = prob_b*prob_black_b/(prob_a*prob_black_a + prob_b*prob_black_b)\n",
    "print(\"The probability of choosing the bag B given the ball is black %.4f\"%prob_black_b)"
   ]
  },
  {
   "cell_type": "markdown",
   "id": "64aaa55d",
   "metadata": {},
   "source": [
    "# 4"
   ]
  },
  {
   "cell_type": "code",
   "execution_count": 13,
   "id": "fcf7881d",
   "metadata": {},
   "outputs": [
    {
     "data": {
      "text/plain": [
       "0.08583037040867346"
      ]
     },
     "execution_count": 13,
     "metadata": {},
     "output_type": "execute_result"
    }
   ],
   "source": [
    "# a\n",
    "n=450\n",
    "p=450/60\n",
    "poisson=stats.poisson.pmf(10,p)\n",
    "poisson"
   ]
  },
  {
   "cell_type": "code",
   "execution_count": 14,
   "id": "c054c6ec",
   "metadata": {},
   "outputs": [
    {
     "data": {
      "text/plain": [
       "0.9999995226667093"
      ]
     },
     "execution_count": 14,
     "metadata": {},
     "output_type": "execute_result"
    }
   ],
   "source": [
    "# b\n",
    "p=450/120\n",
    "n=np.arange(0,17)\n",
    "poisson=stats.poisson.pmf(n,p)\n",
    "poisson.sum()\n"
   ]
  },
  {
   "cell_type": "markdown",
   "id": "18f0a0bd",
   "metadata": {},
   "source": [
    "# 5"
   ]
  },
  {
   "cell_type": "code",
   "execution_count": 22,
   "id": "9f4ed43b",
   "metadata": {},
   "outputs": [
    {
     "data": {
      "text/plain": [
       "0.9884964426207035"
      ]
     },
     "execution_count": 22,
     "metadata": {},
     "output_type": "execute_result"
    }
   ],
   "source": [
    "p=0.05\n",
    "n=10\n",
    "k=np.arange(0,3)\n",
    "\n",
    "binomial=stats.binom.pmf(k,n,p)\n",
    "binomial.sum()                        "
   ]
  },
  {
   "cell_type": "markdown",
   "id": "49f24908",
   "metadata": {},
   "source": [
    "# 6"
   ]
  },
  {
   "cell_type": "code",
   "execution_count": 15,
   "id": "f48f6fee",
   "metadata": {},
   "outputs": [
    {
     "data": {
      "text/plain": [
       "359237.1725"
      ]
     },
     "execution_count": 15,
     "metadata": {},
     "output_type": "execute_result"
    }
   ],
   "source": [
    "mean = 350870\n",
    "std = 12405\n",
    "z_score = 0.6745 \n",
    "tot = mean + z_score*std\n",
    "tot"
   ]
  },
  {
   "cell_type": "markdown",
   "id": "5941f2d6",
   "metadata": {},
   "source": [
    "# 7"
   ]
  },
  {
   "cell_type": "code",
   "execution_count": 16,
   "id": "106a8e5c",
   "metadata": {},
   "outputs": [
    {
     "data": {
      "text/plain": [
       "F_onewayResult(statistic=0.2758137645781355, pvalue=0.6047113162645497)"
      ]
     },
     "execution_count": 16,
     "metadata": {},
     "output_type": "execute_result"
    }
   ],
   "source": [
    "from scipy.stats import f_oneway\n",
    "\n",
    "union_city = [44, 21, 36, 34, 77, 32, 29, 39, 92, 67, 45, 37]\n",
    "\n",
    "mountian_view = [47, 81, 41, 79, 38, 20, 33, 83, 41, 40, 69, 36]\n",
    "\n",
    "f_oneway(union_city, mountian_view)"
   ]
  },
  {
   "cell_type": "markdown",
   "id": "8fad34dd",
   "metadata": {},
   "source": [
    "# 9"
   ]
  },
  {
   "cell_type": "code",
   "execution_count": 17,
   "id": "bd5ffd0d",
   "metadata": {},
   "outputs": [
    {
     "data": {
      "text/plain": [
       "0.29799533504771125"
      ]
     },
     "execution_count": 17,
     "metadata": {},
     "output_type": "execute_result"
    }
   ],
   "source": [
    "p=76\n",
    "n=np.arange(0,81)\n",
    "poisson=stats.poisson.pmf(n,p)\n",
    "poisson=1-sum(poisson)\n",
    "poisson"
   ]
  },
  {
   "cell_type": "markdown",
   "id": "28d19c76",
   "metadata": {},
   "source": [
    "# 10"
   ]
  },
  {
   "cell_type": "code",
   "execution_count": 18,
   "id": "9e427747",
   "metadata": {},
   "outputs": [
    {
     "data": {
      "text/plain": [
       "0.1625"
      ]
     },
     "execution_count": 18,
     "metadata": {},
     "output_type": "execute_result"
    }
   ],
   "source": [
    "a=82\n",
    "b=95\n",
    "c=20\n",
    "d=25\n",
    "total=(b-a)/(c**2/((d)**0.5))\n",
    "total"
   ]
  }
 ],
 "metadata": {
  "kernelspec": {
   "display_name": "Python 3 (ipykernel)",
   "language": "python",
   "name": "python3"
  },
  "language_info": {
   "codemirror_mode": {
    "name": "ipython",
    "version": 3
   },
   "file_extension": ".py",
   "mimetype": "text/x-python",
   "name": "python",
   "nbconvert_exporter": "python",
   "pygments_lexer": "ipython3",
   "version": "3.9.7"
  }
 },
 "nbformat": 4,
 "nbformat_minor": 5
}
