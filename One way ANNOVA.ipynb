{
 "cells": [
  {
   "cell_type": "code",
   "execution_count": 1,
   "id": "52f666f6",
   "metadata": {},
   "outputs": [],
   "source": [
    "from scipy.stats import f_oneway"
   ]
  },
  {
   "cell_type": "code",
   "execution_count": 5,
   "id": "4c453b29",
   "metadata": {},
   "outputs": [],
   "source": [
    "p1=[2,3,7,2,6]\n",
    "p2=[10,8,7,5,10]\n",
    "p3=[10,13,14,13,15]"
   ]
  },
  {
   "cell_type": "code",
   "execution_count": 6,
   "id": "a3fd66e6",
   "metadata": {},
   "outputs": [
    {
     "data": {
      "text/plain": [
       "F_onewayResult(statistic=22.59259259259259, pvalue=8.538592454274676e-05)"
      ]
     },
     "execution_count": 6,
     "metadata": {},
     "output_type": "execute_result"
    }
   ],
   "source": [
    "f_oneway(p1,p2,p3)"
   ]
  },
  {
   "cell_type": "markdown",
   "id": "757033c4",
   "metadata": {},
   "source": [
    "# Tukey's HSD test"
   ]
  },
  {
   "cell_type": "code",
   "execution_count": 8,
   "id": "60e1523d",
   "metadata": {},
   "outputs": [],
   "source": [
    "from statsmodels.stats.multicomp import(pairwise_tukeyhsd,MultiComparison)\n",
    "import pandas as pd\n",
    "df=pd.DataFrame({'s1':[9,12,14,11,13],'s2':[10,6,9,9,10],'s3':[12,14,11,13,11],'s4':[9,8,11,7,8]})\n",
    "               "
   ]
  },
  {
   "cell_type": "code",
   "execution_count": 9,
   "id": "b78a223f",
   "metadata": {},
   "outputs": [],
   "source": [
    "stacked_data=df.stack().reset_index()"
   ]
  },
  {
   "cell_type": "code",
   "execution_count": 10,
   "id": "cf5ed48a",
   "metadata": {},
   "outputs": [],
   "source": [
    "stacked_data=stacked_data.rename(columns={'level_0':'id','level_1':'programme',0:'number of tasks'})"
   ]
  },
  {
   "cell_type": "code",
   "execution_count": 11,
   "id": "ac36fc7d",
   "metadata": {},
   "outputs": [],
   "source": [
    "MultiComp=MultiComparison(stacked_data['number of tasks'],stacked_data['programme'])"
   ]
  },
  {
   "cell_type": "code",
   "execution_count": 12,
   "id": "1bb9bc59",
   "metadata": {},
   "outputs": [
    {
     "name": "stdout",
     "output_type": "stream",
     "text": [
      "Multiple Comparison of Means - Tukey HSD, FWER=0.05 \n",
      "====================================================\n",
      "group1 group2 meandiff p-adj   lower   upper  reject\n",
      "----------------------------------------------------\n",
      "    s1     s2     -3.0 0.0428 -5.9179 -0.0821   True\n",
      "    s1     s3      0.4    0.9 -2.5179  3.3179  False\n",
      "    s1     s4     -3.2 0.0292 -6.1179 -0.2821   True\n",
      "    s2     s3      3.4 0.0198  0.4821  6.3179   True\n",
      "    s2     s4     -0.2    0.9 -3.1179  2.7179  False\n",
      "    s3     s4     -3.6 0.0133 -6.5179 -0.6821   True\n",
      "----------------------------------------------------\n"
     ]
    }
   ],
   "source": [
    "print(MultiComp.tukeyhsd().summary())"
   ]
  },
  {
   "cell_type": "code",
   "execution_count": 13,
   "id": "2c100afc",
   "metadata": {},
   "outputs": [],
   "source": [
    "# It can be seen that there is a statistcal difference between the programs 1 and 2,1 and 4,2 and 3,3 and 4"
   ]
  }
 ],
 "metadata": {
  "kernelspec": {
   "display_name": "Python 3",
   "language": "python",
   "name": "python3"
  },
  "language_info": {
   "codemirror_mode": {
    "name": "ipython",
    "version": 3
   },
   "file_extension": ".py",
   "mimetype": "text/x-python",
   "name": "python",
   "nbconvert_exporter": "python",
   "pygments_lexer": "ipython3",
   "version": "3.8.8"
  }
 },
 "nbformat": 4,
 "nbformat_minor": 5
}
