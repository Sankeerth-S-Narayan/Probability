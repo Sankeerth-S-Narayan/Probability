{
 "cells": [
  {
   "cell_type": "markdown",
   "metadata": {},
   "source": [
    "<table align=\"center\" width=100%>\n",
    "    <tr>\n",
    "        <td width=\"15%\">\n",
    "            <img src=\"inclass.png\">\n",
    "        </td>\n",
    "        <td>\n",
    "            <div align=\"center\">\n",
    "                <font color=\"#21618C\" size=8px>\n",
    "                    <b> In Class\n",
    "                    </b>\n",
    "                </font>\n",
    "            </div>\n",
    "        </td>\n",
    "    </tr>\n",
    "</table>"
   ]
  },
  {
   "cell_type": "markdown",
   "metadata": {},
   "source": [
    "**Import the required libraries**"
   ]
  },
  {
   "cell_type": "code",
   "execution_count": 1,
   "metadata": {},
   "outputs": [],
   "source": [
    "import numpy as np\n",
    "import pandas as pd\n",
    "import scipy.stats as stats\n",
    "import matplotlib.pyplot as plt\n"
   ]
  },
  {
   "cell_type": "markdown",
   "metadata": {},
   "source": [
    "### Let's begin with some hands-on practice exercises"
   ]
  },
  {
   "cell_type": "markdown",
   "metadata": {},
   "source": [
    "**Huge Fruit Basket (HFB) is a grocery shop that sells fruits. It is observed that 20% of their customers complain about the fruits purchased by them for many reasons (bad quality, foul smell and less quantity). On Friday, 30 customers purchased fruits from HFB.**"
   ]
  },
  {
   "cell_type": "markdown",
   "metadata": {
    "collapsed": true
   },
   "source": [
    "<table align=\"left\">\n",
    "    <tr>\n",
    "        <td width=\"6%\">\n",
    "            <img src=\"scala_q.png\">\n",
    "        </td>\n",
    "        <td>\n",
    "            <div align=\"left\", style=\"font-size:120%\">\n",
    "                <font color=\"#21618C\">\n",
    "                    <b>1. Calculate the probability that exactly 10 customers will complain about the purchased products.\n",
    "</b>\n",
    "                </font>\n",
    "            </div>\n",
    "        </td>\n",
    "    </tr>\n",
    "</table>"
   ]
  },
  {
   "cell_type": "code",
   "execution_count": 2,
   "metadata": {},
   "outputs": [
    {
     "data": {
      "text/plain": [
       "0.035470892953328774"
      ]
     },
     "execution_count": 2,
     "metadata": {},
     "output_type": "execute_result"
    }
   ],
   "source": [
    "p=0.2\n",
    "n=30\n",
    "k=10\n",
    "binomial=stats.binom.pmf(k,n,p)\n",
    "binomial"
   ]
  },
  {
   "cell_type": "markdown",
   "metadata": {
    "collapsed": true
   },
   "source": [
    "<table align=\"left\">\n",
    "    <tr>\n",
    "        <td width=\"6%\">\n",
    "            <img src=\"scala_q.png\">\n",
    "        </td>\n",
    "        <td>\n",
    "            <div align=\"left\", style=\"font-size:120%\">\n",
    "                <font color=\"#21618C\">\n",
    "                    <b> 2. Create a list of all possible number of successes (0 to 15) and corresponding Probability Mass Funcrion (PMF) values and draw a bar plot.\n",
    "In other words; Calculate the probability that exactly n customers will complain about the purchased products; where n is 0 to 15.</b>\n",
    "                </font>\n",
    "            </div>\n",
    "        </td>\n",
    "    </tr>\n",
    "</table>"
   ]
  },
  {
   "cell_type": "code",
   "execution_count": 3,
   "metadata": {},
   "outputs": [
    {
     "data": {
      "text/plain": [
       "0.9997687743883265"
      ]
     },
     "execution_count": 3,
     "metadata": {},
     "output_type": "execute_result"
    }
   ],
   "source": [
    "p=0.2\n",
    "n=30\n",
    "k=np.arange(0,15)\n",
    "binomial=stats.binom.pmf(k,n,p)\n",
    "binomial.sum()\n"
   ]
  },
  {
   "cell_type": "code",
   "execution_count": 4,
   "metadata": {},
   "outputs": [
    {
     "data": {
      "text/plain": [
       "Text(0, 0.5, 'Probablity of successes')"
      ]
     },
     "execution_count": 4,
     "metadata": {},
     "output_type": "execute_result"
    },
    {
     "data": {
      "image/png": "[encoded data removed]",
      "text/plain": [
       "<Figure size 432x288 with 1 Axes>"
      ]
     },
     "metadata": {
      "needs_background": "light"
     },
     "output_type": "display_data"
    }
   ],
   "source": [
    "plt.plot(k,binomial,'bo--')\n",
    "plt.xlabel(\"Number of successes\")\n",
    "plt.ylabel(\"Probablity of successes\")"
   ]
  },
  {
   "cell_type": "markdown",
   "metadata": {
    "collapsed": true
   },
   "source": [
    "<table align=\"left\">\n",
    "    <tr>\n",
    "        <td width=\"6%\">\n",
    "            <img src=\"scala_q.png\">\n",
    "        </td>\n",
    "        <td>\n",
    "            <div align=\"left\", style=\"font-size:120%\">\n",
    "                <font color=\"#21618C\">\n",
    "                    <b>3. Calculate the probability that maximum of 10 customers will complain about the fruits purchased by them.\n",
    "</b>\n",
    "                </font>\n",
    "            </div>\n",
    "        </td>\n",
    "    </tr>\n",
    "</table>"
   ]
  },
  {
   "cell_type": "code",
   "execution_count": 5,
   "metadata": {
    "scrolled": true
   },
   "outputs": [
    {
     "data": {
      "text/plain": [
       "0.9743837446646677"
      ]
     },
     "execution_count": 5,
     "metadata": {},
     "output_type": "execute_result"
    }
   ],
   "source": [
    "p=0.2\n",
    "n=30\n",
    "k=np.arange(0,11)\n",
    "binomial=stats.binom.pmf(k,n,p)\n",
    "binomial.sum()"
   ]
  },
  {
   "cell_type": "markdown",
   "metadata": {
    "collapsed": true
   },
   "source": [
    "<table align=\"left\">\n",
    "    <tr>\n",
    "        <td width=\"6%\">\n",
    "            <img src=\"scala_q.png\">\n",
    "        </td>\n",
    "        <td>\n",
    "            <div align=\"left\", style=\"font-size:120%\">\n",
    "                <font color=\"#21618C\">\n",
    "                    <b>4. Calculate the probability that more than 10 customers will complain about the fruits purchased by them.\n",
    "</b>\n",
    "                </font>\n",
    "            </div>\n",
    "        </td>\n",
    "    </tr>\n",
    "</table>"
   ]
  },
  {
   "cell_type": "code",
   "execution_count": 6,
   "metadata": {},
   "outputs": [
    {
     "data": {
      "text/plain": [
       "0.06108714828866102"
      ]
     },
     "execution_count": 6,
     "metadata": {},
     "output_type": "execute_result"
    }
   ],
   "source": [
    "# X>10 =1-X<10\n",
    "p=0.2\n",
    "n=30\n",
    "k=np.arange(0,10)\n",
    "b=(1-stats.binom.pmf(k,n,p).sum())\n",
    "b"
   ]
  },
  {
   "cell_type": "markdown",
   "metadata": {
    "collapsed": true
   },
   "source": [
    "<table align=\"left\">\n",
    "    <tr>\n",
    "        <td width=\"6%\">\n",
    "            <img src=\"scala_q.png\">\n",
    "        </td>\n",
    "        <td>\n",
    "            <div align=\"left\", style=\"font-size:120%\">\n",
    "                <font color=\"#21618C\">\n",
    "                    <b>5. Find the average number of customers who are likely to complain about the fruits. Also find the variance of the number of complaints.\n",
    "</b>\n",
    "                </font>\n",
    "            </div>\n",
    "        </td>\n",
    "    </tr>\n",
    "</table>"
   ]
  },
  {
   "cell_type": "code",
   "execution_count": 7,
   "metadata": {},
   "outputs": [
    {
     "data": {
      "text/plain": [
       "6.0"
      ]
     },
     "execution_count": 7,
     "metadata": {},
     "output_type": "execute_result"
    }
   ],
   "source": [
    "n=30\n",
    "p=0.2\n",
    "mean=n*p\n",
    "mean\n"
   ]
  },
  {
   "cell_type": "markdown",
   "metadata": {},
   "source": [
    "**The number of customer returns in a retail chain per day follows a poisson distribution at a rate of 25 returns per day.**"
   ]
  },
  {
   "cell_type": "markdown",
   "metadata": {
    "collapsed": true
   },
   "source": [
    "<table align=\"left\">\n",
    "    <tr>\n",
    "        <td width=\"6%\">\n",
    "            <img src=\"scala_q.png\">\n",
    "        </td>\n",
    "        <td>\n",
    "            <div align=\"left\", style=\"font-size:120%\">\n",
    "                <font color=\"#21618C\">\n",
    "                    <b>6. Calculate the probability that the number of returns exceeds 30 in a day.\n",
    "</b>\n",
    "                </font>\n",
    "            </div>\n",
    "        </td>\n",
    "    </tr>\n",
    "</table>"
   ]
  },
  {
   "cell_type": "code",
   "execution_count": 8,
   "metadata": {},
   "outputs": [
    {
     "data": {
      "text/plain": [
       "0.18210391597745856"
      ]
     },
     "execution_count": 8,
     "metadata": {},
     "output_type": "execute_result"
    }
   ],
   "source": [
    "rate=25\n",
    "# (x>30)=1-(X<30)\n",
    "n=np.arange(0,30)\n",
    "poisson=stats.poisson.pmf(n,rate)\n",
    "p=1-poisson.sum()\n",
    "p"
   ]
  },
  {
   "cell_type": "markdown",
   "metadata": {
    "collapsed": true
   },
   "source": [
    "<table align=\"left\">\n",
    "    <tr>\n",
    "        <td width=\"6%\">\n",
    "            <img src=\"scala_q.png\">\n",
    "        </td>\n",
    "        <td>\n",
    "            <div align=\"left\", style=\"font-size:120%\">\n",
    "                <font color=\"#21618C\">\n",
    "                    <b>7. The IQ of students follows normal distribution with mean 95 and variance 10. What is the probability that the any student selected at random will have IQ more than 102? \n",
    "</b>\n",
    "                </font>\n",
    "            </div>\n",
    "        </td>\n",
    "    </tr>\n",
    "</table>"
   ]
  },
  {
   "cell_type": "code",
   "execution_count": 9,
   "metadata": {},
   "outputs": [
    {
     "data": {
      "text/plain": [
       "0.24196365222307303"
      ]
     },
     "execution_count": 9,
     "metadata": {},
     "output_type": "execute_result"
    }
   ],
   "source": [
    "# The probability (area) to the right is calculated as (1 - probability to the left)\n",
    "1-stats.norm.cdf(0.350,loc=0.295,scale=0.025)\n",
    "a=1-stats.norm.cdf(102,loc=95,scale=10)\n",
    "a"
   ]
  },
  {
   "cell_type": "markdown",
   "metadata": {
    "collapsed": true
   },
   "source": [
    "<table align=\"left\">\n",
    "    <tr>\n",
    "        <td width=\"6%\">\n",
    "            <img src=\"scala_q.png\">\n",
    "        </td>\n",
    "        <td>\n",
    "            <div align=\"left\", style=\"font-size:120%\">\n",
    "                <font color=\"#21618C\">\n",
    "                    <b>8. The number of road accidents on the day follow Poisson distribution with mean equals to 3. What is the probability that on a day exactly 1 accident will happen?              \n",
    "</b>\n",
    "                </font>\n",
    "            </div>\n",
    "        </td>\n",
    "    </tr>\n",
    "</table>"
   ]
  },
  {
   "cell_type": "code",
   "execution_count": 10,
   "metadata": {},
   "outputs": [
    {
     "data": {
      "text/plain": [
       "0.14936120510359185"
      ]
     },
     "execution_count": 10,
     "metadata": {},
     "output_type": "execute_result"
    }
   ],
   "source": [
    "rate=3\n",
    "poisson=stats.poisson.pmf(1,rate)\n",
    "poisson"
   ]
  },
  {
   "cell_type": "markdown",
   "metadata": {
    "collapsed": true
   },
   "source": [
    "<table align=\"left\">\n",
    "    <tr>\n",
    "        <td width=\"6%\">\n",
    "            <img src=\"scala_q.png\">\n",
    "        </td>\n",
    "        <td>\n",
    "            <div align=\"left\", style=\"font-size:120%\">\n",
    "                <font color=\"#21618C\">\n",
    "                    <b>9. Consider the following data does it follow a normal distribution?.\n",
    "</b>\n",
    "                </font>\n",
    "            </div>\n",
    "        </td>\n",
    "    </tr>\n",
    "</table>"
   ]
  },
  {
   "cell_type": "raw",
   "metadata": {},
   "source": [
    "    75, 97, 70, 25, 80, 40, 82, 72, 82, 46, 72, 64, 24, 66, 78, 34, 37,\n",
    "    64, 75, 94, 76, 96, 88, 37, 29, 51, 67, 45, 69, 59, 81, 66, 30, 52,\n",
    "    66, 85, 80, 74, 69, 83, 66, 84, 76, 73, 77, 85, 72, 71, 71, 75, 59,\n",
    "    84, 65, 64, 86, 58, 85, 61, 79, 61, 68, 61, 60, 78, 76, 80, 57, 75"
   ]
  },
  {
   "cell_type": "code",
   "execution_count": 11,
   "metadata": {},
   "outputs": [
    {
     "data": {
      "text/plain": [
       "<AxesSubplot:>"
      ]
     },
     "execution_count": 11,
     "metadata": {},
     "output_type": "execute_result"
    },
    {
     "data": {
      "image/png": "[encoded data removed]",
      "text/plain": [
       "<Figure size 432x288 with 1 Axes>"
      ]
     },
     "metadata": {
      "needs_background": "light"
     },
     "output_type": "display_data"
    }
   ],
   "source": [
    "import pandas as pd\n",
    "my_data = pd.Series([    75, 97, 70, 25, 80, 40, 82, 72, 82, 46, 72, 64, 24, 66, 78, 34, 37,\n",
    "    64, 75, 94, 76, 96, 88, 37, 29, 51, 67, 45, 69, 59, 81, 66, 30, 52,\n",
    "    66, 85, 80, 74, 69, 83, 66, 84, 76, 73, 77, 85, 72, 71, 71, 75, 59,\n",
    "    84, 65, 64, 86, 58, 85, 61, 79, 61, 68, 61, 60, 78, 76, 80, 57, 75])\n",
    "my_data.hist()"
   ]
  },
  {
   "cell_type": "code",
   "execution_count": 12,
   "metadata": {},
   "outputs": [],
   "source": [
    "# It is not normally distributed"
   ]
  },
  {
   "cell_type": "markdown",
   "metadata": {
    "collapsed": true
   },
   "source": [
    "<table align=\"left\">\n",
    "    <tr>\n",
    "        <td width=\"6%\">\n",
    "            <img src=\"scala_q.png\">\n",
    "        </td>\n",
    "        <td>\n",
    "            <div align=\"left\", style=\"font-size:120%\">\n",
    "                <font color=\"#21618C\">\n",
    "                    <b>10. Consider three coins are tossed simultaneously.<br>\n",
    "                    1) How many outcomes have at least two heads?<br>\n",
    "                    2) What is the probability of the this event?<br>\n",
    "</b>\n",
    "                </font>\n",
    "            </div>\n",
    "        </td>\n",
    "    </tr>\n",
    "</table>"
   ]
  },
  {
   "cell_type": "markdown",
   "metadata": {},
   "source": [
    "Let H: Head of the coin tossed\n",
    "and T: Tail of the coin tossed\n",
    "\n",
    "Three coins tossed simultaneously have the following outcomes:\n",
    "{HHH, HHT, HTH, THH, HTT, THT, TTH, TTT}"
   ]
  },
  {
   "cell_type": "code",
   "execution_count": 13,
   "metadata": {},
   "outputs": [
    {
     "data": {
      "text/plain": [
       "0.5"
      ]
     },
     "execution_count": 13,
     "metadata": {},
     "output_type": "execute_result"
    }
   ],
   "source": [
    "n=8\n",
    "#1\n",
    "k=4\n",
    "#2\n",
    "p=k/n\n",
    "p"
   ]
  },
  {
   "cell_type": "markdown",
   "metadata": {
    "collapsed": true
   },
   "source": [
    "<table align=\"left\">\n",
    "    <tr>\n",
    "        <td width=\"6%\">\n",
    "            <img src=\"scala_q.png\">\n",
    "        </td>\n",
    "        <td>\n",
    "            <div align=\"left\", style=\"font-size:120%\">\n",
    "                <font color=\"#21618C\">\n",
    "                    <b>11. A textile industry observed that on an average its employees can stitch 34 garment on a particular day with variance 3. What are minimum and maximum number of garments that can be produced?\n",
    "</b>\n",
    "                </font>\n",
    "            </div>\n",
    "        </td>\n",
    "    </tr>\n",
    "</table>"
   ]
  },
  {
   "cell_type": "code",
   "execution_count": null,
   "metadata": {},
   "outputs": [],
   "source": []
  },
  {
   "cell_type": "markdown",
   "metadata": {
    "collapsed": true
   },
   "source": [
    "<table align=\"left\">\n",
    "    <tr>\n",
    "        <td width=\"6%\">\n",
    "            <img src=\"scala_q.png\">\n",
    "        </td>\n",
    "        <td>\n",
    "            <div align=\"left\", style=\"font-size:120%\">\n",
    "                <font color=\"#21618C\">\n",
    "                    <b>12. A telecom industry is keen to know the call duration of its customers to introduce new prepaid plans. The data for call duration in minutes is given as follows:<br>\n",
    "    Call duration (in minutes):\n",
    "    23, 03, 13, 04, 45, 35, 48, 98, 65, 45, 75, 24, 15, 25, 34, 17, 16, 17, 19<br><br>\n",
    "Obtain the descriptive statistics of the data.\n",
    "</b>\n",
    "                </font>\n",
    "            </div>\n",
    "        </td>\n",
    "    </tr>\n",
    "</table>"
   ]
  },
  {
   "cell_type": "code",
   "execution_count": 14,
   "metadata": {},
   "outputs": [
    {
     "data": {
      "text/html": [
       "<div>\n",
       "<style scoped>\n",
       "    .dataframe tbody tr th:only-of-type {\n",
       "        vertical-align: middle;\n",
       "    }\n",
       "\n",
       "    .dataframe tbody tr th {\n",
       "        vertical-align: top;\n",
       "    }\n",
       "\n",
       "    .dataframe thead th {\n",
       "        text-align: right;\n",
       "    }\n",
       "</style>\n",
       "<table border=\"1\" class=\"dataframe\">\n",
       "  <thead>\n",
       "    <tr style=\"text-align: right;\">\n",
       "      <th></th>\n",
       "      <th>0</th>\n",
       "    </tr>\n",
       "  </thead>\n",
       "  <tbody>\n",
       "    <tr>\n",
       "      <th>count</th>\n",
       "      <td>19.000000</td>\n",
       "    </tr>\n",
       "    <tr>\n",
       "      <th>mean</th>\n",
       "      <td>32.684211</td>\n",
       "    </tr>\n",
       "    <tr>\n",
       "      <th>std</th>\n",
       "      <td>24.984557</td>\n",
       "    </tr>\n",
       "    <tr>\n",
       "      <th>min</th>\n",
       "      <td>3.000000</td>\n",
       "    </tr>\n",
       "    <tr>\n",
       "      <th>25%</th>\n",
       "      <td>16.500000</td>\n",
       "    </tr>\n",
       "    <tr>\n",
       "      <th>50%</th>\n",
       "      <td>24.000000</td>\n",
       "    </tr>\n",
       "    <tr>\n",
       "      <th>75%</th>\n",
       "      <td>45.000000</td>\n",
       "    </tr>\n",
       "    <tr>\n",
       "      <th>max</th>\n",
       "      <td>98.000000</td>\n",
       "    </tr>\n",
       "  </tbody>\n",
       "</table>\n",
       "</div>"
      ],
      "text/plain": [
       "               0\n",
       "count  19.000000\n",
       "mean   32.684211\n",
       "std    24.984557\n",
       "min     3.000000\n",
       "25%    16.500000\n",
       "50%    24.000000\n",
       "75%    45.000000\n",
       "max    98.000000"
      ]
     },
     "execution_count": 14,
     "metadata": {},
     "output_type": "execute_result"
    }
   ],
   "source": [
    "df=pd.DataFrame([23, 3, 13, 4, 45, 35, 48, 98, 65, 45, 75, 24, 15, 25, 34, 17, 16, 17, 19])\n",
    "df.describe()"
   ]
  },
  {
   "cell_type": "markdown",
   "metadata": {},
   "source": [
    "**ClickDart is an e-commerce company. It claims that the product will be delivered within 30 days of placing the order. The data is given below that contains the delivery time of 40 products. The population mean is 30 and the population standard deviation of the delivery time is 12.5 days.**\n",
    "\n",
    "data = [16.0, 16.0, 30.0, 37.0, 25.0, 22.0, 19.0, 35.0, 27.0, 32.0,\n",
    "34.0, 28.0, 24.0, 35.0, 24.0, 21.0, 32.0, 29.0, 24.0, 35.0,\n",
    "28.0, 29.0, 18.0, 31.0, 28.0, 33.0, 32.0, 24.0, 25.0, 22.0,\n",
    "21.0, 27.0, 41.0, 23.0, 23.0, 16.0, 24.0, 38.0, 26.0, 28.0]"
   ]
  },
  {
   "cell_type": "markdown",
   "metadata": {
    "collapsed": true
   },
   "source": [
    "<table align=\"left\">\n",
    "    <tr>\n",
    "        <td width=\"6%\">\n",
    "            <img src=\"scala_q.png\">\n",
    "        </td>\n",
    "        <td>\n",
    "            <div align=\"left\", style=\"font-size:120%\">\n",
    "                <font color=\"#21618C\">\n",
    "                    <b>13. Calculate the mean and standard deviation of these observations and check if calculate Z-statistics can be applied or not\n",
    "</b>\n",
    "                </font>\n",
    "            </div>\n",
    "        </td>\n",
    "    </tr>\n",
    "</table>"
   ]
  },
  {
   "cell_type": "code",
   "execution_count": 15,
   "metadata": {},
   "outputs": [
    {
     "data": {
      "text/plain": [
       "0    27.05\n",
       "dtype: float64"
      ]
     },
     "execution_count": 15,
     "metadata": {},
     "output_type": "execute_result"
    }
   ],
   "source": [
    "data = pd.DataFrame([16.0, 16.0, 30.0, 37.0, 25.0, 22.0, 19.0, 35.0, 27.0, 32.0, 34.0, 28.0, 24.0, 35.0, 24.0, 21.0, 32.0, 29.0, 24.0, 35.0, 28.0, 29.0, 18.0, 31.0, 28.0, 33.0, 32.0, 24.0, 25.0, 22.0, 21.0, 27.0, 41.0, 23.0, 23.0, 16.0, 24.0, 38.0, 26.0, 28.0])\n",
    "data.mean()"
   ]
  },
  {
   "cell_type": "code",
   "execution_count": 16,
   "metadata": {},
   "outputs": [
    {
     "data": {
      "text/plain": [
       "0    6.246845\n",
       "dtype: float64"
      ]
     },
     "execution_count": 16,
     "metadata": {},
     "output_type": "execute_result"
    }
   ],
   "source": [
    "data.std()"
   ]
  },
  {
   "cell_type": "code",
   "execution_count": 17,
   "metadata": {},
   "outputs": [
    {
     "data": {
      "text/plain": [
       "-0.23599999999999993"
      ]
     },
     "execution_count": 17,
     "metadata": {},
     "output_type": "execute_result"
    }
   ],
   "source": [
    "z=(27.05-30)/12.5\n",
    "z"
   ]
  },
  {
   "cell_type": "code",
   "execution_count": 18,
   "metadata": {},
   "outputs": [],
   "source": [
    "# we can conclude that z-statistics can be applied"
   ]
  },
  {
   "cell_type": "markdown",
   "metadata": {
    "collapsed": true
   },
   "source": [
    "<table align=\"left\">\n",
    "    <tr>\n",
    "        <td width=\"6%\">\n",
    "            <img src=\"scala_q.png\">\n",
    "        </td>\n",
    "        <td>\n",
    "            <div align=\"left\", style=\"font-size:120%\">\n",
    "                <font color=\"#21618C\">\n",
    "                    <b>14. Conduct a hypothesis test at significance level a = 0.05 to verify the claim made by the e-commerce company 'ClickDart'.\n",
    "</b>\n",
    "                </font>\n",
    "            </div>\n",
    "        </td>\n",
    "    </tr>\n",
    "</table>"
   ]
  },
  {
   "cell_type": "code",
   "execution_count": null,
   "metadata": {},
   "outputs": [],
   "source": []
  },
  {
   "cell_type": "markdown",
   "metadata": {},
   "source": [
    "**Glitch Productions (GP) is a newly formed movie production house based out of Atlanta. GP was interested in understanding the production cost required for producing a Hollywood movie. The industry believes that the production house will require\n",
    "70 million dollars on average. It is assumed that the Hollywood movie production cost follows a normal distribution. The production costs of 40 Hollywood movies in millions of dollars are given below.**\n",
    "\n",
    "data = [81, 89, 53, 56, 77, 58, 78, 45, 62, 55, 72, 8,\n",
    "10, 16, 8, 33, 36, 32, 66, 62, 48, 84, 67, 91, 62, 46, \n",
    "89, 99, 92, 77, 29, 66, 44, 26, 66, 67,25, 35, 57, 63]"
   ]
  },
  {
   "cell_type": "markdown",
   "metadata": {
    "collapsed": true
   },
   "source": [
    "<table align=\"left\">\n",
    "    <tr>\n",
    "        <td width=\"6%\">\n",
    "            <img src=\"scala_q.png\">\n",
    "        </td>\n",
    "        <td>\n",
    "            <div align=\"left\", style=\"font-size:120%\">\n",
    "                <font color=\"#21618C\">\n",
    "                    <b>15. Conduct an appropriate hypothesis test at a = 0.05 to check whether the belief about average production cost is correct.<br>\n",
    "</b>\n",
    "                </font>\n",
    "            </div>\n",
    "        </td>\n",
    "    </tr>\n",
    "</table>"
   ]
  },
  {
   "cell_type": "code",
   "execution_count": null,
   "metadata": {},
   "outputs": [],
   "source": []
  },
  {
   "cell_type": "markdown",
   "metadata": {},
   "source": [
    "**Consider the below image for the questions 16 and 17**\n",
    "<img src=\"image.png\">"
   ]
  },
  {
   "cell_type": "markdown",
   "metadata": {
    "collapsed": true
   },
   "source": [
    "<table align=\"left\">\n",
    "    <tr>\n",
    "        <td width=\"6%\">\n",
    "            <img src=\"scala_q.png\">\n",
    "        </td>\n",
    "        <td>\n",
    "            <div align=\"left\", style=\"font-size:120%\">\n",
    "                <font color=\"#21618C\">\n",
    "                    <b>16. What is the probability that a girl is chosen given that she likes Pizza?\n",
    "</b>\n",
    "                </font>\n",
    "            </div>\n",
    "        </td>\n",
    "    </tr>\n",
    "</table>"
   ]
  },
  {
   "cell_type": "code",
   "execution_count": 19,
   "metadata": {},
   "outputs": [
    {
     "data": {
      "text/plain": [
       "0.6666666666666666"
      ]
     },
     "execution_count": 19,
     "metadata": {},
     "output_type": "execute_result"
    }
   ],
   "source": [
    "m=90\n",
    "n=60\n",
    "p=n/m\n",
    "p"
   ]
  },
  {
   "cell_type": "markdown",
   "metadata": {
    "collapsed": true
   },
   "source": [
    "<table align=\"left\">\n",
    "    <tr>\n",
    "        <td width=\"6%\">\n",
    "            <img src=\"scala_q.png\">\n",
    "        </td>\n",
    "        <td>\n",
    "            <div align=\"left\", style=\"font-size:120%\">\n",
    "                <font color=\"#21618C\">\n",
    "                    <b>17. What is the probability that a boy likes both the dishes?\n",
    "</b>\n",
    "                </font>\n",
    "            </div>\n",
    "        </td>\n",
    "    </tr>\n",
    "</table>"
   ]
  },
  {
   "cell_type": "code",
   "execution_count": 20,
   "metadata": {},
   "outputs": [
    {
     "data": {
      "text/plain": [
       "0.45161290322580644"
      ]
     },
     "execution_count": 20,
     "metadata": {},
     "output_type": "execute_result"
    }
   ],
   "source": [
    "m=155\n",
    "n=70\n",
    "p=n/m\n",
    "p"
   ]
  },
  {
   "cell_type": "markdown",
   "metadata": {
    "collapsed": true
   },
   "source": [
    "<table align=\"left\">\n",
    "    <tr>\n",
    "        <td width=\"6%\">\n",
    "            <img src=\"scala_q.png\">\n",
    "        </td>\n",
    "        <td>\n",
    "            <div align=\"left\", style=\"font-size:120%\">\n",
    "                <font color=\"#21618C\">\n",
    "                    <b>18. What is the probability that the favourite dish for both boys and girls is sizzlers?\n",
    "</b>\n",
    "                </font>\n",
    "            </div>\n",
    "        </td>\n",
    "    </tr>\n",
    "</table>"
   ]
  },
  {
   "cell_type": "code",
   "execution_count": 21,
   "metadata": {},
   "outputs": [
    {
     "data": {
      "text/plain": [
       "0.41935483870967744"
      ]
     },
     "execution_count": 21,
     "metadata": {},
     "output_type": "execute_result"
    }
   ],
   "source": [
    "m=155\n",
    "n=65\n",
    "p=n/m\n",
    "p"
   ]
  },
  {
   "cell_type": "markdown",
   "metadata": {
    "collapsed": true
   },
   "source": [
    "<table align=\"left\">\n",
    "    <tr>\n",
    "        <td width=\"6%\">\n",
    "            <img src=\"scala_q.png\">\n",
    "        </td>\n",
    "        <td>\n",
    "            <div align=\"left\", style=\"font-size:120%\">\n",
    "                <font color=\"#21618C\">\n",
    "                    <b>19. What is the probability that the favourite food is Pizza given that he is a boy?\n",
    "</b>\n",
    "                </font>\n",
    "            </div>\n",
    "        </td>\n",
    "    </tr>\n",
    "</table>"
   ]
  },
  {
   "cell_type": "code",
   "execution_count": 22,
   "metadata": {},
   "outputs": [
    {
     "data": {
      "text/plain": [
       "0.42857142857142855"
      ]
     },
     "execution_count": 22,
     "metadata": {},
     "output_type": "execute_result"
    }
   ],
   "source": [
    "m=70\n",
    "n=30\n",
    "p=n/m\n",
    "p"
   ]
  },
  {
   "cell_type": "markdown",
   "metadata": {
    "collapsed": true
   },
   "source": [
    "<table align=\"left\">\n",
    "    <tr>\n",
    "        <td width=\"6%\">\n",
    "            <img src=\"scala_q.png\">\n",
    "        </td>\n",
    "        <td>\n",
    "            <div align=\"left\", style=\"font-size:120%\">\n",
    "                <font color=\"#21618C\">\n",
    "                    <b>20. An experiment to study obesity in male workers shows that the average BMI for 36 workers is 23.79. While rechecking the forms, it was noticed that the BMI of a worker was misread as 21.32 instead of 27.32. Find the correct average BMI.\n",
    "</b>\n",
    "                </font>\n",
    "            </div>\n",
    "        </td>\n",
    "    </tr>\n",
    "</table>"
   ]
  },
  {
   "cell_type": "code",
   "execution_count": 23,
   "metadata": {},
   "outputs": [
    {
     "data": {
      "text/plain": [
       "23.956666666666663"
      ]
     },
     "execution_count": 23,
     "metadata": {},
     "output_type": "execute_result"
    }
   ],
   "source": [
    "mean=23.79\n",
    "total_sum=23.79*36\n",
    "correct_sum=total_sum-21.32+27.32\n",
    "correct_mean=correct_sum/36\n",
    "correct_mean"
   ]
  },
  {
   "cell_type": "markdown",
   "metadata": {
    "collapsed": true
   },
   "source": [
    "<table align=\"left\">\n",
    "    <tr>\n",
    "        <td width=\"6%\">\n",
    "            <img src=\"scala_q.png\">\n",
    "        </td>\n",
    "        <td>\n",
    "            <div align=\"left\", style=\"font-size:120%\">\n",
    "                <font color=\"#21618C\">\n",
    "                    <b>21. Write a function that returns the type of skewness in the given data.\n",
    "</b>\n",
    "                </font>\n",
    "            </div>\n",
    "        </td>\n",
    "    </tr>\n",
    "</table>"
   ]
  },
  {
   "cell_type": "markdown",
   "metadata": {},
   "source": [
    "Consider the age of 15 students enrolled in data science program.\n",
    "\n",
    "age = [22, 29, 24, 32, 37, 26, 25, 45, 28, 22, 39, 47, 23, 36, 43]\n",
    "\n",
    "**Hint:** Use the `skew()` from scipy library."
   ]
  },
  {
   "cell_type": "code",
   "execution_count": 24,
   "metadata": {},
   "outputs": [
    {
     "data": {
      "text/plain": [
       "0    0.49657\n",
       "dtype: float64"
      ]
     },
     "execution_count": 24,
     "metadata": {},
     "output_type": "execute_result"
    }
   ],
   "source": [
    "from scipy.stats import skew\n",
    "df=pd.DataFrame([22, 29, 24, 32, 37, 26, 25, 45, 28, 22, 39, 47, 23, 36, 43])\n",
    "df.skew()"
   ]
  },
  {
   "cell_type": "markdown",
   "metadata": {
    "collapsed": true
   },
   "source": [
    "<table align=\"left\">\n",
    "    <tr>\n",
    "        <td width=\"6%\">\n",
    "            <img src=\"scala_q.png\">\n",
    "        </td>\n",
    "        <td>\n",
    "            <div align=\"left\", style=\"font-size:120%\">\n",
    "                <font color=\"#21618C\">\n",
    "                    <b>22.  A machine produced, on average, 40 paperclips in 10 days. Observation for one of the days is missing from the data. Find the missing observation to identify the day on which the machine produced the highest number of paperclips.\n",
    "</b>\n",
    "                </font>\n",
    "            </div>\n",
    "        </td>\n",
    "    </tr>\n",
    "</table>"
   ]
  },
  {
   "cell_type": "markdown",
   "metadata": {},
   "source": [
    "Consider the number of paperclips produced by a machine in 10 days. 'x' denotes missing data. \n",
    "\n",
    "num_clips = [41, 35, 42, x, 46, 34, 32, 47, 44, 39]"
   ]
  },
  {
   "cell_type": "code",
   "execution_count": 25,
   "metadata": {},
   "outputs": [
    {
     "data": {
      "text/plain": [
       "360"
      ]
     },
     "execution_count": 25,
     "metadata": {},
     "output_type": "execute_result"
    }
   ],
   "source": [
    "mean=40\n",
    "n=10\n",
    "sum_clips=41+35+42+46+34+32+47+44+39\n",
    "sum_clips\n"
   ]
  },
  {
   "cell_type": "code",
   "execution_count": 26,
   "metadata": {},
   "outputs": [
    {
     "data": {
      "text/plain": [
       "40"
      ]
     },
     "execution_count": 26,
     "metadata": {},
     "output_type": "execute_result"
    }
   ],
   "source": [
    "# 40=(360+missing_value)/10\n",
    "# 40*10=(360+missing_value)\n",
    "missing_value=400-360\n",
    "missing_value"
   ]
  },
  {
   "cell_type": "markdown",
   "metadata": {
    "collapsed": true
   },
   "source": [
    "<table align=\"left\">\n",
    "    <tr>\n",
    "        <td width=\"6%\">\n",
    "            <img src=\"scala_q.png\">\n",
    "        </td>\n",
    "        <td>\n",
    "            <div align=\"left\", style=\"font-size:120%\">\n",
    "                <font color=\"#21618C\">\n",
    "                    <b>23. Consider the height of 12 students in a class. Obtain the range of height for the middle 50% of the data.\n",
    "</b>\n",
    "                </font>\n",
    "            </div>\n",
    "        </td>\n",
    "    </tr>\n",
    "</table>"
   ]
  },
  {
   "cell_type": "markdown",
   "metadata": {},
   "source": [
    "Consider the height of 12 students in a class.\n",
    "\n",
    "height (cm) = [162, 158, 149, 167, 162, 154, 172, 160, 164, 159, 175, 163]"
   ]
  },
  {
   "cell_type": "code",
   "execution_count": null,
   "metadata": {
    "scrolled": true
   },
   "outputs": [],
   "source": []
  },
  {
   "cell_type": "markdown",
   "metadata": {
    "collapsed": true
   },
   "source": [
    "<table align=\"left\">\n",
    "    <tr>\n",
    "        <td width=\"6%\">\n",
    "            <img src=\"scala_q.png\">\n",
    "        </td>\n",
    "        <td>\n",
    "            <div align=\"left\", style=\"font-size:120%\">\n",
    "                <font color=\"#21618C\">\n",
    "                    <b>24. The ratings of the movies selected for an award are negatively skewed with Karl Pearson's coefficient of skewness as -0.46. The average rating is 3.52, with a standard deviation of 1.7. Find the median rating of the movies.\n",
    "</b>\n",
    "                </font>\n",
    "            </div>\n",
    "        </td>\n",
    "    </tr>\n",
    "</table>"
   ]
  },
  {
   "cell_type": "code",
   "execution_count": null,
   "metadata": {},
   "outputs": [],
   "source": []
  },
  {
   "cell_type": "markdown",
   "metadata": {
    "collapsed": true
   },
   "source": [
    "<table align=\"left\">\n",
    "    <tr>\n",
    "        <td width=\"6%\">\n",
    "            <img src=\"scala_q.png\">\n",
    "        </td>\n",
    "        <td>\n",
    "            <div align=\"left\", style=\"font-size:120%\">\n",
    "                <font color=\"#21618C\">\n",
    "                    <b>25. A study reports the monthly count of new subscribers of bloggers; Sheldon, Ross and Joey for a year. Find out who has more consistency in the number of new subscribers?\n",
    "</b>\n",
    "                </font>\n",
    "            </div>\n",
    "        </td>\n",
    "    </tr>\n",
    "</table>"
   ]
  },
  {
   "cell_type": "markdown",
   "metadata": {},
   "source": [
    "The count of new subscribers (in thousands) is given below:\n",
    "\n",
    "<table>\n",
    "    <tr>\n",
    "        <th> Month </th>\n",
    "        <th> Sheldon </th>\n",
    "        <th> Ross </th>\n",
    "        <th> Joey </th>\n",
    "    </tr>\n",
    "     <tr>\n",
    "        <td> Jan </td>\n",
    "        <td> 3 </td>\n",
    "        <td> 4 </td>\n",
    "        <td> 4.3 </td>\n",
    "    </tr>\n",
    "    <tr>\n",
    "        <td> Feb </td>\n",
    "        <td> 5.1 </td>\n",
    "        <td> 4.6</td>\n",
    "        <td> 4 </td>\n",
    "    </tr>\n",
    "    <tr>\n",
    "        <td> Mar </td>\n",
    "        <td> 2.9 </td>\n",
    "        <td> 3.1 </td>\n",
    "        <td> 4.5 </td>\n",
    "    </tr>\n",
    "    <tr>\n",
    "        <td> Apr </td>\n",
    "        <td> 3.7 </td>\n",
    "        <td> 4.2 </td>\n",
    "        <td> 5.1 </td>\n",
    "    </tr>\n",
    "    <tr>\n",
    "        <td> May </td>\n",
    "        <td> 4.2 </td>\n",
    "        <td> 5.4 </td>\n",
    "        <td> 6 </td>\n",
    "    </tr>\n",
    "    <tr>\n",
    "        <td> Jun </td>\n",
    "        <td> 4.2 </td>\n",
    "        <td> 3.4 </td>\n",
    "        <td> 5 </td>\n",
    "    </tr>\n",
    "    <tr>\n",
    "        <td> July </td>\n",
    "        <td> 4.3 </td>\n",
    "        <td> 5 </td>\n",
    "        <td> 4.8 </td>\n",
    "    </tr>\n",
    "    <tr>\n",
    "        <td> Aug </td>\n",
    "        <td> 5.2 </td>\n",
    "        <td> 6.2 </td>\n",
    "        <td> 5.4 </td>\n",
    "    </tr>\n",
    "    <tr>\n",
    "        <td> Sept </td>\n",
    "        <td> 3.7 </td>\n",
    "        <td> 4.2 </td>\n",
    "        <td> 5.1 </td>\n",
    "    </tr>\n",
    "    <tr>\n",
    "        <td> Oct </td>\n",
    "        <td> 4.4 </td>\n",
    "        <td> 3.5 </td>\n",
    "        <td> 6.4 </td>\n",
    "    </tr>\n",
    "    <tr>\n",
    "        <td> Nov </td>\n",
    "        <td> 5.2 </td>\n",
    "        <td> 4.1 </td>\n",
    "        <td> 4.2 </td>\n",
    "    </tr>\n",
    "    <tr>\n",
    "        <td> Dec </td>\n",
    "        <td> 3.4 </td>\n",
    "        <td> 5.5 </td>\n",
    "        <td> 3.4 </td>\n",
    "    </tr>\n",
    "</table>"
   ]
  },
  {
   "cell_type": "code",
   "execution_count": null,
   "metadata": {},
   "outputs": [],
   "source": []
  },
  {
   "cell_type": "markdown",
   "metadata": {
    "collapsed": true
   },
   "source": [
    "<table align=\"left\">\n",
    "    <tr>\n",
    "        <td width=\"6%\">\n",
    "            <img src=\"scala_q.png\">\n",
    "        </td>\n",
    "        <td>\n",
    "            <div align=\"left\", style=\"font-size:120%\">\n",
    "                <font color=\"#21618C\">\n",
    "                    <b>26. It has been claimed from past observations that the average diameter of bolts from a manufacturing process is 1.25 cm. Based on the collected sample of size 150, is there evidence to suggest that the average diameter is not 1.25 cm?\n",
    "</b>\n",
    "                </font>\n",
    "            </div>\n",
    "        </td>\n",
    "    </tr>\n",
    "</table>"
   ]
  },
  {
   "cell_type": "markdown",
   "metadata": {},
   "source": [
    "Diameter of bolts:\n",
    "    0.89, 1.39, 1.29, 1.36, 1.39, 1.44, 1.24, 0.82, 1.25, 0.85, 0.75, 1.34, 0.84, 1.27, 1.04, 1.36, 1.18, \n",
    "    1.49, 1.54, 0.83, 1.11, 1.14, 1.3 , 0.99, 1.21, 1.51, 1.02, 1.19, 1.05, 1.23, 0.76, 0.81, 0.92, 0.82, \n",
    "    1.64, 1.02, 1.61, 1.2, 1.17, 1.61, 1.23, 1.11, 1.17, 1.63, 1.33, 1.07, 0.94, 1.53, 1.38, 0.8 , 0.95, \n",
    "    1.4 , 1.09, 1.32, 1.43, 1.12, 1.2 , 0.94, 0.98, 1.54, 1.21, 1.4 , 1.13, 0.75, 1.02, 0.99, 1.49, 1.34, \n",
    "    1.57, 1.51, 1.42, 1.27, 0.78, 1.52, 1.5 , 1.13, 1.17, 1.17, 1.21, 1.14, 1.23, 1.46, 1.62, 1.11, 1.28, \n",
    "    1.25, 1.48, 0.76, 1.45, 1.38, 1.15, 0.95, 1.13, 1.24, 1.41, 1.38, 0.86, 1.39, 1.57, 1.32, 1.43, 1.55, \n",
    "    0.89, 1.06, 1.27, 1.46, 0.94, 1.53, 0.87, 1.47, 1.04, 1.12, 1.09, 1.45, 1.37, 1.18, 1.22, 1.29, 1.28, \n",
    "    1.59, 1.06, 1.49, 1.01, 1.31, 1.21, 1.32, 1.59, 0.85, 1.06, 0.82, 1.31, 1.32, 1.05, 1.6 , 0.87, 0.85, \n",
    "    1.13, 1.55, 1.15, 1.11, 1.58, 1.47, 1.52, 1.31, 1.16, 1.12, 0.85, 1.61, 1.42, 1.61"
   ]
  },
  {
   "cell_type": "code",
   "execution_count": 27,
   "metadata": {
    "scrolled": true
   },
   "outputs": [
    {
     "data": {
      "text/plain": [
       "0    1.223867\n",
       "dtype: float64"
      ]
     },
     "execution_count": 27,
     "metadata": {},
     "output_type": "execute_result"
    }
   ],
   "source": [
    "df=pd.DataFrame([0.89, 1.39, 1.29, 1.36, 1.39, 1.44, 1.24, 0.82, 1.25, 0.85, 0.75, 1.34, 0.84, 1.27, 1.04, 1.36, 1.18, 1.49, 1.54, 0.83, 1.11, 1.14, 1.3 , 0.99, 1.21, 1.51, 1.02, 1.19, 1.05, 1.23, 0.76, 0.81, 0.92, 0.82, 1.64, 1.02, 1.61, 1.2, 1.17, 1.61, 1.23, 1.11, 1.17, 1.63, 1.33, 1.07, 0.94, 1.53, 1.38, 0.8 , 0.95, 1.4 , 1.09, 1.32, 1.43, 1.12, 1.2 , 0.94, 0.98, 1.54, 1.21, 1.4 , 1.13, 0.75, 1.02, 0.99, 1.49, 1.34, 1.57, 1.51, 1.42, 1.27, 0.78, 1.52, 1.5 , 1.13, 1.17, 1.17, 1.21, 1.14, 1.23, 1.46, 1.62, 1.11, 1.28, 1.25, 1.48, 0.76, 1.45, 1.38, 1.15, 0.95, 1.13, 1.24, 1.41, 1.38, 0.86, 1.39, 1.57, 1.32, 1.43, 1.55, 0.89, 1.06, 1.27, 1.46, 0.94, 1.53, 0.87, 1.47, 1.04, 1.12, 1.09, 1.45, 1.37, 1.18, 1.22, 1.29, 1.28, 1.59, 1.06, 1.49, 1.01, 1.31, 1.21, 1.32, 1.59, 0.85, 1.06, 0.82, 1.31, 1.32, 1.05, 1.6 , 0.87, 0.85, 1.13, 1.55, 1.15, 1.11, 1.58, 1.47, 1.52, 1.31, 1.16, 1.12, 0.85, 1.61, 1.42, 1.61])\n",
    "df.mean()"
   ]
  },
  {
   "cell_type": "code",
   "execution_count": 28,
   "metadata": {},
   "outputs": [],
   "source": [
    "# Hence there is evidence to prove that the average diameter is not 1.25cm instead it is 1.22cm"
   ]
  },
  {
   "cell_type": "markdown",
   "metadata": {
    "collapsed": true
   },
   "source": [
    "<table align=\"left\">\n",
    "    <tr>\n",
    "        <td width=\"6%\">\n",
    "            <img src=\"scala_q.png\">\n",
    "        </td>\n",
    "        <td>\n",
    "            <div align=\"left\", style=\"font-size:120%\">\n",
    "                <font color=\"#21618C\">\n",
    "                    <b>27. Tesco Pharma claims to have produced a new drug which reduces the systolic Blood Pressure after usage of a week.\n",
    "\n",
    "The BP of 8 patients are recorded before medication and after medication. Do the data suggest that the drug is effective in reducing the systolic blood pressure?\n",
    "</b>\n",
    "                </font>\n",
    "            </div>\n",
    "        </td>\n",
    "    </tr>\n",
    "</table>\n",
    "\n",
    "<table>\n",
    "    <tr>\n",
    "        <th>Before</th>\t\n",
    "            <th>After</th>\n",
    "            </tr>\n",
    "    <tr>\n",
    "        <td>90</td>\n",
    "        <td>85</td>\n",
    "    </tr>\n",
    "    <tr>\n",
    "        <td>85</td>\n",
    "        <td>87</td>\n",
    "    </tr>\n",
    "    <tr>\n",
    "        <td>78</td>\n",
    "        <td>82</td>\n",
    "    </tr>\n",
    "     <tr>\n",
    "        <td>88</td>\n",
    "        <td>83</td>\n",
    "    </tr>\n",
    "    <tr>\n",
    "        <td>90</td>\n",
    "        <td>82</td>\n",
    "    </tr>\n",
    "    <tr>\n",
    "        <td>100</td>\n",
    "        <td>99</td>\n",
    "    </tr>\n",
    "    <tr>\n",
    "        <td>92</td>\n",
    "        <td>94</td>\n",
    "    </tr>\n",
    "    <tr>\n",
    "        <td>81</td>\n",
    "        <td>78</td>\n",
    "    </tr>\n",
    "       </table>\n"
   ]
  },
  {
   "cell_type": "code",
   "execution_count": null,
   "metadata": {},
   "outputs": [],
   "source": []
  },
  {
   "cell_type": "markdown",
   "metadata": {
    "collapsed": true
   },
   "source": [
    "<table align=\"left\">\n",
    "    <tr>\n",
    "        <td width=\"6%\">\n",
    "            <img src=\"scala_q.png\">\n",
    "        </td>\n",
    "        <td>\n",
    "            <div align=\"left\", style=\"font-size:120%\">\n",
    "                <font color=\"#21618C\">\n",
    "                    <b>28. A researcher at BioSeed limited, claims to have modified the existing seed. The yeild for the two types of seeds is recorded for 10 equally sized farms. Is there enough evidence to claim that the there is no difference in the yeild due to the seed type?\n",
    "</b>\n",
    "                </font>\n",
    "            </div>\n",
    "        </td>\n",
    "    </tr>\n",
    "</table>"
   ]
  },
  {
   "cell_type": "raw",
   "metadata": {},
   "source": [
    "Yield due to Ordinary Seed:\n",
    "450, 340, 562, 563, 234, 546, 876, 649, 736, 745\n",
    "\n",
    "Yield due to Modified Seed:\n",
    "345, 576, 675, 674, 865, 457, 776, 567, 568, 753"
   ]
  },
  {
   "cell_type": "code",
   "execution_count": 29,
   "metadata": {},
   "outputs": [
    {
     "data": {
      "text/plain": [
       "0    570.1\n",
       "dtype: float64"
      ]
     },
     "execution_count": 29,
     "metadata": {},
     "output_type": "execute_result"
    }
   ],
   "source": [
    "ordinary=pd.DataFrame([450, 340, 562, 563, 234, 546, 876, 649, 736, 745])\n",
    "ordinary.mean()"
   ]
  },
  {
   "cell_type": "code",
   "execution_count": 30,
   "metadata": {},
   "outputs": [
    {
     "data": {
      "text/plain": [
       "0    625.6\n",
       "dtype: float64"
      ]
     },
     "execution_count": 30,
     "metadata": {},
     "output_type": "execute_result"
    }
   ],
   "source": [
    "modified=pd.DataFrame([345, 576, 675, 674, 865, 457, 776, 567, 568, 753])\n",
    "modified.mean()"
   ]
  },
  {
   "cell_type": "code",
   "execution_count": 31,
   "metadata": {},
   "outputs": [],
   "source": [
    "# There is evidence to show that there is a difference when a modified seed is used"
   ]
  },
  {
   "cell_type": "markdown",
   "metadata": {
    "collapsed": true
   },
   "source": [
    "<table align=\"left\">\n",
    "    <tr>\n",
    "        <td width=\"6%\">\n",
    "            <img src=\"scala_q.png\">\n",
    "        </td>\n",
    "        <td>\n",
    "            <div align=\"left\", style=\"font-size:120%\">\n",
    "                <font color=\"#21618C\">\n",
    "                    <b>29. Draw a random sample using np.random.random() of size 7000. Test whether the data follows normal distribution.\n",
    "</b>\n",
    "                </font>\n",
    "            </div>\n",
    "        </td>\n",
    "    </tr>\n",
    "</table>"
   ]
  },
  {
   "cell_type": "code",
   "execution_count": 32,
   "metadata": {},
   "outputs": [
    {
     "data": {
      "text/plain": [
       "<AxesSubplot:>"
      ]
     },
     "execution_count": 32,
     "metadata": {},
     "output_type": "execute_result"
    },
    {
     "data": {
      "image/png": "[encoded data removed]",
      "text/plain": [
       "<Figure size 432x288 with 1 Axes>"
      ]
     },
     "metadata": {
      "needs_background": "light"
     },
     "output_type": "display_data"
    }
   ],
   "source": [
    "a=np.random.random(7000)\n",
    "df=pd.Series(a)\n",
    "df.hist()"
   ]
  },
  {
   "cell_type": "code",
   "execution_count": 33,
   "metadata": {},
   "outputs": [],
   "source": [
    "# we can conclude that it follows a normal distribution"
   ]
  },
  {
   "cell_type": "markdown",
   "metadata": {
    "collapsed": true
   },
   "source": [
    "<table align=\"left\">\n",
    "    <tr>\n",
    "        <td width=\"6%\">\n",
    "            <img src=\"scala_q.png\">\n",
    "        </td>\n",
    "        <td>\n",
    "            <div align=\"left\", style=\"font-size:120%\">\n",
    "                <font color=\"#21618C\">\n",
    "                    <b>30. Assume that in a MCQ test, there are 10 questions, and each question has four options out which only one is correct. Steve knew answers to only 2 questions and has randomly marked answers for other questions. To pass the test one must answer 4 questions correctly. What is the probability that steve will pass?\n",
    "</b>\n",
    "                </font>\n",
    "            </div>\n",
    "        </td>\n",
    "    </tr>\n",
    "</table>"
   ]
  },
  {
   "cell_type": "code",
   "execution_count": 34,
   "metadata": {},
   "outputs": [
    {
     "data": {
      "text/plain": [
       "0.20231151580810564"
      ]
     },
     "execution_count": 34,
     "metadata": {},
     "output_type": "execute_result"
    }
   ],
   "source": [
    "p=1/4\n",
    "n=10\n",
    "k=(0,4)\n",
    "binomial=stats.binom.pmf(k,n,p)\n",
    "binomial.sum()"
   ]
  }
 ],
 "metadata": {
  "kernelspec": {
   "display_name": "Python 3",
   "language": "python",
   "name": "python3"
  },
  "language_info": {
   "codemirror_mode": {
    "name": "ipython",
    "version": 3
   },
   "file_extension": ".py",
   "mimetype": "text/x-python",
   "name": "python",
   "nbconvert_exporter": "python",
   "pygments_lexer": "ipython3",
   "version": "3.8.8"
  }
 },
 "nbformat": 4,
 "nbformat_minor": 2
}
