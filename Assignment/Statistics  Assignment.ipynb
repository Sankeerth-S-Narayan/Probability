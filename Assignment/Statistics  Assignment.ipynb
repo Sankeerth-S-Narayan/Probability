{
 "cells": [
  {
   "cell_type": "markdown",
   "id": "9cbb59d9",
   "metadata": {},
   "source": [
    "### 1"
   ]
  },
  {
   "cell_type": "code",
   "execution_count": 1,
   "id": "b6f8abb9",
   "metadata": {},
   "outputs": [
    {
     "name": "stdout",
     "output_type": "stream",
     "text": [
      "The median is the middlemost month  3\n"
     ]
    }
   ],
   "source": [
    "avg = 458\n",
    "total = 3206\n",
    "months = int(total/avg)\n",
    "median = months//2\n",
    "if months%2==0:\n",
    "    print('The median is the average of {0} \\\n",
    "    and {1}'.format(median_month, median_month+1))\n",
    "else:\n",
    "    print('The median is the middlemost month ', median)"
   ]
  },
  {
   "cell_type": "markdown",
   "id": "9ac9af0c",
   "metadata": {},
   "source": [
    "### 2"
   ]
  },
  {
   "cell_type": "code",
   "execution_count": 2,
   "id": "607d5ed3",
   "metadata": {},
   "outputs": [
    {
     "name": "stdout",
     "output_type": "stream",
     "text": [
      "[228, 246, 247, 265, 276, 285, 297, 298, 300, 304, 312, 325, 345, 352, 352]\n",
      "The wage above which 65 % of wages would lie is  285\n"
     ]
    }
   ],
   "source": [
    "import math\n",
    "wage = [247, 228, 352, 298, 345, 312, 300, 285, 246, 352, 297, 304, 265, 325, 276]\n",
    "wage.sort()\n",
    "print(wage)\n",
    "x = len(wage)*.35   \n",
    "\n",
    "print(\"The wage above which 65 % of wages would lie is \", wage[math.floor(x)] )"
   ]
  },
  {
   "cell_type": "markdown",
   "id": "900368bd",
   "metadata": {},
   "source": [
    "### 3"
   ]
  },
  {
   "cell_type": "code",
   "execution_count": 3,
   "id": "40849eba",
   "metadata": {},
   "outputs": [
    {
     "name": "stdout",
     "output_type": "stream",
     "text": [
      "More distribution is  ['Jimmy']\n"
     ]
    }
   ],
   "source": [
    "jimmy = 5/38*100\n",
    "richard = 6/27*100\n",
    "\n",
    "x = ['Jimmy' if jimmy < richard else 'Richard']\n",
    "print(\"More distribution is \", x)\n"
   ]
  },
  {
   "cell_type": "markdown",
   "id": "c79d891e",
   "metadata": {},
   "source": [
    "### 4"
   ]
  },
  {
   "cell_type": "code",
   "execution_count": 4,
   "id": "a49c5b9d",
   "metadata": {},
   "outputs": [],
   "source": [
    "import pandas as pd\n",
    "import numpy as np"
   ]
  },
  {
   "cell_type": "code",
   "execution_count": 5,
   "id": "aeff02a9",
   "metadata": {},
   "outputs": [
    {
     "name": "stdout",
     "output_type": "stream",
     "text": [
      "[]\n"
     ]
    }
   ],
   "source": [
    "weight = [14.7, 15.2, 39.8, 44.5, 21.2, 28.5, 35.2, 19.7, 40.4, 16.5]\n",
    "weight = pd.Series(weight)\n",
    "q1 = weight.quantile(.25)\n",
    "q3 = weight.quantile(.75)\n",
    "iqr = q3 - q1\n",
    "\n",
    "lower =q1-1.5*iqr\n",
    "upper =q3+1.5*iqr\n",
    "\n",
    "extreme = [ x for x in weight if (x<lower) or (x>upper)]\n",
    "print(extreme)\n",
    "\n",
    "# This means there is no outlier."
   ]
  },
  {
   "cell_type": "markdown",
   "id": "aa207d3f",
   "metadata": {},
   "source": [
    "### 5"
   ]
  },
  {
   "cell_type": "code",
   "execution_count": 6,
   "id": "ed0c002d",
   "metadata": {},
   "outputs": [
    {
     "name": "stdout",
     "output_type": "stream",
     "text": [
      "Positively Skewed\n"
     ]
    }
   ],
   "source": [
    "price = [14751, 16422, 15398, 9445, 12589, 11687, 10692, 8475, 11184, 9961, 12898, 11905]\n",
    "mean = np.mean(price)\n",
    "median = np.median(price)\n",
    "std = np.std(price)\n",
    "s = 3*(mean - median)/std\n",
    "if s>0:\n",
    "    print('Positively Skewed')\n",
    "elif s==0:\n",
    "    print('Symmetric - no skewness')\n",
    "else:\n",
    "    print('Negatively Skewed')"
   ]
  },
  {
   "cell_type": "markdown",
   "id": "93caa115",
   "metadata": {},
   "source": [
    "### 6"
   ]
  },
  {
   "cell_type": "code",
   "execution_count": 7,
   "id": "42337804",
   "metadata": {},
   "outputs": [
    {
     "name": "stdout",
     "output_type": "stream",
     "text": [
      "the probability of taking both the loans is 0.22\n"
     ]
    }
   ],
   "source": [
    "# p(A U B) = p(A) + p(B) - p( A n B)\n",
    "prob_atleast_one = 0.59\n",
    "prob_veh_loan = 0.35\n",
    "prob_edu_loan = 0.46\n",
    "\n",
    "prob_both = prob_veh_loan + prob_edu_loan - prob_atleast_one\n",
    "print(\"the probability of taking both the loans is %.2f\"%prob_both)"
   ]
  },
  {
   "cell_type": "markdown",
   "id": "f85147c3",
   "metadata": {},
   "source": [
    "### 7"
   ]
  },
  {
   "cell_type": "code",
   "execution_count": 8,
   "id": "2b08c468",
   "metadata": {},
   "outputs": [
    {
     "name": "stdout",
     "output_type": "stream",
     "text": [
      "The probability of occurrence of event Y is 0.33\n"
     ]
    }
   ],
   "source": [
    "p_x = 0.4\n",
    "p_xuy = 0.6\n",
    "# p_xny = p_x * p_y \n",
    "# because if x and y are independent, then p(xny) = p(x)*p(y)\n",
    "# so if we rearange terms in the formula p(xuy) = p(x) + p(y) - p(xny)\n",
    "\n",
    "p_y = (p_xuy - p_x)/(1-p_x)\n",
    "print(\"The probability of occurrence of event Y is %.2f\"%p_y)"
   ]
  },
  {
   "cell_type": "markdown",
   "id": "c0038ada",
   "metadata": {},
   "source": [
    "### 8"
   ]
  },
  {
   "cell_type": "code",
   "execution_count": 9,
   "id": "65518729",
   "metadata": {},
   "outputs": [
    {
     "name": "stdout",
     "output_type": "stream",
     "text": [
      "The required probability is  0.5\n"
     ]
    }
   ],
   "source": [
    "p_m = p_a = p_g = P_k = 1/4\n",
    "# There is equal chances for all the four fruits\n",
    "print(\"The required probability is \", p_m+p_g)"
   ]
  },
  {
   "cell_type": "markdown",
   "id": "7a1cde20",
   "metadata": {},
   "source": [
    "### 9"
   ]
  },
  {
   "cell_type": "code",
   "execution_count": 10,
   "id": "ec313484",
   "metadata": {},
   "outputs": [
    {
     "name": "stdout",
     "output_type": "stream",
     "text": [
      "The probability that the student fails in the Mathematics exam is 0.14\n"
     ]
    }
   ],
   "source": [
    "prob_pass_EMG = 0.67\n",
    "prob_fail_EMG = 1 - prob_pass_EMG\n",
    "prob_fail_E = 0.10\n",
    "prob_fail_G = 0.09\n",
    "prob_fail_M = prob_fail_EMG - (prob_fail_E + prob_fail_G)\n",
    "print(\"The probability that the student fails in the Mathematics exam is %.2f\"% prob_fail_M)"
   ]
  },
  {
   "cell_type": "markdown",
   "id": "3a0e69de",
   "metadata": {},
   "source": [
    "### 10"
   ]
  },
  {
   "cell_type": "code",
   "execution_count": 11,
   "id": "c8187009",
   "metadata": {},
   "outputs": [
    {
     "name": "stdout",
     "output_type": "stream",
     "text": [
      "The expected number of defective batteries in a day are 3.65\n"
     ]
    }
   ],
   "source": [
    "# The expected value is a theoretical mean \n",
    "# expected value is the sum of each possible outcome * prob of the outcome\n",
    "expected_value = 2*.3 + 5*.22 + 7*.15 + 9* .1\n",
    "print(\"The expected number of defective batteries in a day are %.2f\"%expected_value)"
   ]
  },
  {
   "cell_type": "markdown",
   "id": "4c00ac51",
   "metadata": {},
   "source": [
    "### 11"
   ]
  },
  {
   "cell_type": "code",
   "execution_count": 12,
   "id": "ff6a0eff",
   "metadata": {},
   "outputs": [
    {
     "name": "stdout",
     "output_type": "stream",
     "text": [
      "the probability of selecting a red card is 0.50\n"
     ]
    }
   ],
   "source": [
    "red_cards = 26\n",
    "tot = 52 \n",
    "print(\"the probability of selecting a red card is %.2f\"%(red_cards/tot))"
   ]
  },
  {
   "cell_type": "markdown",
   "id": "d746f51d",
   "metadata": {},
   "source": [
    "### 12"
   ]
  },
  {
   "cell_type": "code",
   "execution_count": 13,
   "id": "99ead816",
   "metadata": {},
   "outputs": [],
   "source": [
    "import scipy.stats as stats"
   ]
  },
  {
   "cell_type": "code",
   "execution_count": 14,
   "id": "aac1191d",
   "metadata": {},
   "outputs": [
    {
     "name": "stdout",
     "output_type": "stream",
     "text": [
      "The probability that at most 3 tyres will be defective is 0.38\n"
     ]
    }
   ],
   "source": [
    "p =.4\n",
    "n = 10\n",
    "x = np.arange(0,4)\n",
    "prob = stats.binom.pmf(x,n,p)\n",
    "print(\"The probability that at most 3 tyres will be defective is %.2f\"%sum(prob))"
   ]
  },
  {
   "cell_type": "markdown",
   "id": "aae24285",
   "metadata": {},
   "source": [
    "### 13"
   ]
  },
  {
   "cell_type": "code",
   "execution_count": 15,
   "id": "bf287043",
   "metadata": {},
   "outputs": [
    {
     "data": {
      "text/plain": [
       "0.03678175293604137"
      ]
     },
     "execution_count": 15,
     "metadata": {},
     "output_type": "execute_result"
    }
   ],
   "source": [
    "rate = 18\n",
    "prob = stats.poisson.pmf(12,rate)\n",
    "prob"
   ]
  },
  {
   "cell_type": "markdown",
   "id": "96e136ea",
   "metadata": {},
   "source": [
    "### 14"
   ]
  },
  {
   "cell_type": "code",
   "execution_count": 16,
   "id": "0670a993",
   "metadata": {},
   "outputs": [
    {
     "name": "stdout",
     "output_type": "stream",
     "text": [
      "The mean of the given distribution is  7.5\n",
      "The variance is 2.08\n"
     ]
    }
   ],
   "source": [
    "# mean = (a+b)/2\n",
    "# std deviation = sq root (b-a)^2/12\n",
    "\n",
    "a = 5\n",
    "b = 10\n",
    "\n",
    "mean = (a+b)/2\n",
    "variance = ((b-a)**2/12)\n",
    "\n",
    "print(\"The mean of the given distribution is \", mean)\n",
    "print(\"The variance is %.2f\"% variance)"
   ]
  }
 ],
 "metadata": {
  "kernelspec": {
   "display_name": "Python 3 (ipykernel)",
   "language": "python",
   "name": "python3"
  },
  "language_info": {
   "codemirror_mode": {
    "name": "ipython",
    "version": 3
   },
   "file_extension": ".py",
   "mimetype": "text/x-python",
   "name": "python",
   "nbconvert_exporter": "python",
   "pygments_lexer": "ipython3",
   "version": "3.9.7"
  }
 },
 "nbformat": 4,
 "nbformat_minor": 5
}
