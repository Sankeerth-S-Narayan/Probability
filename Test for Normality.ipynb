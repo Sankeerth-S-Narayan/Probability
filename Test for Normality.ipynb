{
 "cells": [
  {
   "cell_type": "code",
   "execution_count": 3,
   "id": "8c989e00",
   "metadata": {},
   "outputs": [],
   "source": [
    "import numpy as np\n",
    "from scipy.stats import shapiro"
   ]
  },
  {
   "cell_type": "code",
   "execution_count": null,
   "id": "9f320735",
   "metadata": {},
   "outputs": [],
   "source": [
    "'''\n",
    "The null and alternate hypothesis of shampiro-wilk test are as follows\n",
    "Ho: The data is normally distributed\n",
    "Ha: The data is not normally distributed\n",
    "'''"
   ]
  },
  {
   "cell_type": "code",
   "execution_count": 2,
   "id": "76effa2b",
   "metadata": {},
   "outputs": [],
   "source": [
    "rainfall_in_mm=np.random.random(200)*100"
   ]
  },
  {
   "cell_type": "code",
   "execution_count": 4,
   "id": "e2a2a90c",
   "metadata": {
    "scrolled": true
   },
   "outputs": [
    {
     "name": "stdout",
     "output_type": "stream",
     "text": [
      "The test statistic is 0.9494796395301819 and its p_value is 1.6816152310639154e-06\n"
     ]
    }
   ],
   "source": [
    "stat,p=shapiro(rainfall_in_mm)\n",
    "print(\"The test statistic is\",stat,\"and its p_value is\",p)"
   ]
  }
 ],
 "metadata": {
  "kernelspec": {
   "display_name": "Python 3",
   "language": "python",
   "name": "python3"
  },
  "language_info": {
   "codemirror_mode": {
    "name": "ipython",
    "version": 3
   },
   "file_extension": ".py",
   "mimetype": "text/x-python",
   "name": "python",
   "nbconvert_exporter": "python",
   "pygments_lexer": "ipython3",
   "version": "3.8.8"
  }
 },
 "nbformat": 4,
 "nbformat_minor": 5
}
